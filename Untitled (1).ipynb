{
 "cells": [
  {
   "cell_type": "code",
   "execution_count": null,
   "id": "9eef1949-2b38-4a0e-a841-58ac385ec8e2",
   "metadata": {},
   "outputs": [],
   "source": [
    "#  Q1.ANS=>\n",
    "'''exception is class that contains all types of error . What is exception explain with example?\n",
    "Exceptions are errors that occur at runtime and disrupt the normal flow of execution of instructions in a program.\n",
    "Syntax errors are mistakes in using the language.\n",
    "exceptions can be handled at the run time. \n",
    "An error can be a syntax error, while there can be many types of exceptions that \n",
    "could occur during the execution and are not unconditionally inoperable.'''"
   ]
  },
  {
   "cell_type": "code",
   "execution_count": 9,
   "id": "d84ccc48-9c3b-496f-9896-4f920dd37223",
   "metadata": {},
   "outputs": [
    {
     "name": "stdout",
     "output_type": "stream",
     "text": [
      "hello world\n",
      "invalid literal for int() with base 10: 'hello world'\n"
     ]
    }
   ],
   "source": [
    "#  Q2.ANS=>\n",
    "'''when exception is not handled then our code is interrupted during time of execution if error occures\n",
    "error is handled in the following example '''\n",
    "\n",
    "try:\n",
    "    print('hello world')\n",
    "    int('hello world')\n",
    "    print('HELLO WORLD')\n",
    "except Exception as e:\n",
    "    print(e)"
   ]
  },
  {
   "cell_type": "code",
   "execution_count": 10,
   "id": "1de1bb36-9a43-40e5-a9c1-6fbe717ea219",
   "metadata": {},
   "outputs": [
    {
     "name": "stdout",
     "output_type": "stream",
     "text": [
      "Second element = 2\n",
      "An error occurred\n"
     ]
    }
   ],
   "source": [
    "# Q3.ANS=>\n",
    "'''The try and except block in Python is used to catch and handle exception'''\n",
    "\n",
    "\n",
    "a = [1, 2, 3]\n",
    "try:\n",
    "\tprint (\"Second element = %d\" %(a[1]))\n",
    "\n",
    "\t# Throws error since there are only 3 elements in array\n",
    "\tprint (\"Fourth element = %d\" %(a[3]))\n",
    "\n",
    "except:\n",
    "\tprint (\"An error occurred\")\n"
   ]
  },
  {
   "cell_type": "code",
   "execution_count": 26,
   "id": "973ae479-5dc5-4f6e-8e43-4ea4034e59bc",
   "metadata": {},
   "outputs": [
    {
     "name": "stdout",
     "output_type": "stream",
     "text": [
      "hello world\n",
      "an error occured and else will not execute when except executed\n",
      "it will executes in any situation\n"
     ]
    },
    {
     "name": "stdin",
     "output_type": "stream",
     "text": [
      "enter age:  12\n"
     ]
    },
    {
     "name": "stdout",
     "output_type": "stream",
     "text": [
      "age is valid\n"
     ]
    }
   ],
   "source": [
    "# Q4.ANS=>\n",
    "\n",
    "# try and else\n",
    "try:\n",
    "    print('hello world')\n",
    "    int('hello world')\n",
    "    print('HELLO WORLD')\n",
    "# except will execute after try get a error\n",
    "except:\n",
    "    print(\"an error occured and else will not execute when except executed\")\n",
    "# else will not execute when except executed\n",
    "else:\n",
    "    print('it will execute after try complete successfully without a error')\n",
    "# finally executes in all situations\n",
    "finally:\n",
    "    print('it will executes in any situation')\n",
    "    \n",
    "#  The raise keyword is used to raise an exception. we can define what kind of error to raise, and the text to print to the user.\n",
    "\n",
    "def validate():\n",
    "    age=int(input('enter age: '))\n",
    "    if age<0:\n",
    "        raise Exception(\"The age shouldn't be negative\")\n",
    "    else:\n",
    "        print('age is valid')\n",
    "\n",
    "validate()"
   ]
  },
  {
   "cell_type": "code",
   "execution_count": 2,
   "id": "9460f449-3dce-4810-b32b-fb78ea9a73f7",
   "metadata": {},
   "outputs": [],
   "source": [
    "# Q5.ANS=>\n",
    "'''we can create our own exceptions that are derived classes of the Exception class. Creating our own Exception is known as custom exception\n",
    "Built-in exceptions offer information about Python-related problems, and custom exceptions will add information about project-related \n",
    "problems, that's why we need custom exceptions.'''\n",
    "class customException:\n",
    "    def __init__(self,msg):\n",
    "        self.msg=msg\n",
    "        print(msg)\n",
    "    \n",
    "def validate():\n",
    "    age=int(input('enter age: '))\n",
    "    if age<0:\n",
    "        raise customException(\"The age shouldn't be negative\")\n",
    "    else:\n",
    "        print('age is valid')\n",
    "validate()"
   ]
  },
  {
   "cell_type": "code",
   "execution_count": 5,
   "id": "b3007535-19c5-43ba-8249-6dcb0197a593",
   "metadata": {},
   "outputs": [],
   "source": [
    "# Q6.ANS=>\n",
    "class customException:\n",
    "    def __init__(self,msg):\n",
    "        self.msg=msg\n",
    "        print(msg)\n",
    "\n",
    "def balance(a):\n",
    "    if a<0:\n",
    "        raise customException(\"The balance shouldn't be negative\")\n",
    "    else:\n",
    "        print(a)"
   ]
  },
  {
   "cell_type": "code",
   "execution_count": null,
   "id": "ca96921b-321f-4635-b936-1215e9e8f5d5",
   "metadata": {},
   "outputs": [],
   "source": [
    "balance()"
   ]
  }
 ],
 "metadata": {
  "kernelspec": {
   "display_name": "Python 3 (ipykernel)",
   "language": "python",
   "name": "python3"
  },
  "language_info": {
   "codemirror_mode": {
    "name": "ipython",
    "version": 3
   },
   "file_extension": ".py",
   "mimetype": "text/x-python",
   "name": "python",
   "nbconvert_exporter": "python",
   "pygments_lexer": "ipython3",
   "version": "3.10.8"
  }
 },
 "nbformat": 4,
 "nbformat_minor": 5
}
